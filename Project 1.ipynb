{
 "cells": [
  {
   "cell_type": "code",
   "execution_count": 1,
   "metadata": {},
   "outputs": [],
   "source": [
    "import pandas as pd\n",
    "import matplotlib.pyplot as plt\n",
    "import seaborn as sns\n",
    "%matplotlib inline"
   ]
  },
  {
   "cell_type": "code",
   "execution_count": 2,
   "metadata": {},
   "outputs": [],
   "source": [
    "#Making a list of missing value type\n",
    "missing_values = ['s','na','NaN']\n",
    "df = pd.read_csv('https://raw.githubusercontent.com/CunyLaguardiaDataAnalytics/datasets/master/2014-15_To_2016-17_School-_Level_NYC_Regents_Report_For_All_Variables.csv', na_values = missing_values)"
   ]
  },
  {
   "cell_type": "code",
   "execution_count": 3,
   "metadata": {
    "scrolled": true
   },
   "outputs": [
    {
     "data": {
      "text/html": [
       "<div>\n",
       "<style scoped>\n",
       "    .dataframe tbody tr th:only-of-type {\n",
       "        vertical-align: middle;\n",
       "    }\n",
       "\n",
       "    .dataframe tbody tr th {\n",
       "        vertical-align: top;\n",
       "    }\n",
       "\n",
       "    .dataframe thead th {\n",
       "        text-align: right;\n",
       "    }\n",
       "</style>\n",
       "<table border=\"1\" class=\"dataframe\">\n",
       "  <thead>\n",
       "    <tr style=\"text-align: right;\">\n",
       "      <th></th>\n",
       "      <th>School DBN</th>\n",
       "      <th>School Name</th>\n",
       "      <th>School Level</th>\n",
       "      <th>Regents Exam</th>\n",
       "      <th>Year</th>\n",
       "      <th>Total Tested</th>\n",
       "      <th>Mean Score</th>\n",
       "      <th>Number Scoring Below 65</th>\n",
       "      <th>Percent Scoring Below 65</th>\n",
       "      <th>Number Scoring 65 or Above</th>\n",
       "      <th>Percent Scoring 65 or Above</th>\n",
       "      <th>Number Scoring 80 or Above</th>\n",
       "      <th>Percent Scoring 80 or Above</th>\n",
       "      <th>Number Scoring CR</th>\n",
       "      <th>Percent Scoring CR</th>\n",
       "    </tr>\n",
       "  </thead>\n",
       "  <tbody>\n",
       "    <tr>\n",
       "      <th>0</th>\n",
       "      <td>01M034</td>\n",
       "      <td>P.S. 034 Franklin D. Roosevelt</td>\n",
       "      <td>K-8</td>\n",
       "      <td>Common Core Algebra</td>\n",
       "      <td>2017</td>\n",
       "      <td>4</td>\n",
       "      <td>NaN</td>\n",
       "      <td>NaN</td>\n",
       "      <td>NaN</td>\n",
       "      <td>NaN</td>\n",
       "      <td>NaN</td>\n",
       "      <td>NaN</td>\n",
       "      <td>NaN</td>\n",
       "      <td>NaN</td>\n",
       "      <td>NaN</td>\n",
       "    </tr>\n",
       "    <tr>\n",
       "      <th>1</th>\n",
       "      <td>01M034</td>\n",
       "      <td>P.S. 034 Franklin D. Roosevelt</td>\n",
       "      <td>K-8</td>\n",
       "      <td>Living Environment</td>\n",
       "      <td>2015</td>\n",
       "      <td>16</td>\n",
       "      <td>77.9</td>\n",
       "      <td>1.0</td>\n",
       "      <td>6.3</td>\n",
       "      <td>15.0</td>\n",
       "      <td>93.8</td>\n",
       "      <td>7.0</td>\n",
       "      <td>43.8</td>\n",
       "      <td>NaN</td>\n",
       "      <td>NaN</td>\n",
       "    </tr>\n",
       "    <tr>\n",
       "      <th>2</th>\n",
       "      <td>01M034</td>\n",
       "      <td>P.S. 034 Franklin D. Roosevelt</td>\n",
       "      <td>K-8</td>\n",
       "      <td>Living Environment</td>\n",
       "      <td>2016</td>\n",
       "      <td>9</td>\n",
       "      <td>74.0</td>\n",
       "      <td>1.0</td>\n",
       "      <td>11.1</td>\n",
       "      <td>8.0</td>\n",
       "      <td>88.9</td>\n",
       "      <td>2.0</td>\n",
       "      <td>22.2</td>\n",
       "      <td>NaN</td>\n",
       "      <td>NaN</td>\n",
       "    </tr>\n",
       "    <tr>\n",
       "      <th>3</th>\n",
       "      <td>01M140</td>\n",
       "      <td>P.S. 140 Nathan Straus</td>\n",
       "      <td>K-8</td>\n",
       "      <td>Common Core Algebra</td>\n",
       "      <td>2016</td>\n",
       "      <td>3</td>\n",
       "      <td>NaN</td>\n",
       "      <td>NaN</td>\n",
       "      <td>NaN</td>\n",
       "      <td>NaN</td>\n",
       "      <td>NaN</td>\n",
       "      <td>NaN</td>\n",
       "      <td>NaN</td>\n",
       "      <td>NaN</td>\n",
       "      <td>NaN</td>\n",
       "    </tr>\n",
       "    <tr>\n",
       "      <th>4</th>\n",
       "      <td>01M140</td>\n",
       "      <td>P.S. 140 Nathan Straus</td>\n",
       "      <td>K-8</td>\n",
       "      <td>Common Core Algebra</td>\n",
       "      <td>2017</td>\n",
       "      <td>2</td>\n",
       "      <td>NaN</td>\n",
       "      <td>NaN</td>\n",
       "      <td>NaN</td>\n",
       "      <td>NaN</td>\n",
       "      <td>NaN</td>\n",
       "      <td>NaN</td>\n",
       "      <td>NaN</td>\n",
       "      <td>NaN</td>\n",
       "      <td>NaN</td>\n",
       "    </tr>\n",
       "  </tbody>\n",
       "</table>\n",
       "</div>"
      ],
      "text/plain": [
       "  School DBN                     School Name School Level  \\\n",
       "0     01M034  P.S. 034 Franklin D. Roosevelt          K-8   \n",
       "1     01M034  P.S. 034 Franklin D. Roosevelt          K-8   \n",
       "2     01M034  P.S. 034 Franklin D. Roosevelt          K-8   \n",
       "3     01M140          P.S. 140 Nathan Straus          K-8   \n",
       "4     01M140          P.S. 140 Nathan Straus          K-8   \n",
       "\n",
       "          Regents Exam  Year  Total Tested  Mean Score  \\\n",
       "0  Common Core Algebra  2017             4         NaN   \n",
       "1   Living Environment  2015            16        77.9   \n",
       "2   Living Environment  2016             9        74.0   \n",
       "3  Common Core Algebra  2016             3         NaN   \n",
       "4  Common Core Algebra  2017             2         NaN   \n",
       "\n",
       "   Number Scoring Below 65  Percent Scoring Below 65  \\\n",
       "0                      NaN                       NaN   \n",
       "1                      1.0                       6.3   \n",
       "2                      1.0                      11.1   \n",
       "3                      NaN                       NaN   \n",
       "4                      NaN                       NaN   \n",
       "\n",
       "   Number Scoring 65 or Above  Percent Scoring 65 or Above  \\\n",
       "0                         NaN                          NaN   \n",
       "1                        15.0                         93.8   \n",
       "2                         8.0                         88.9   \n",
       "3                         NaN                          NaN   \n",
       "4                         NaN                          NaN   \n",
       "\n",
       "   Number Scoring 80 or Above  Percent Scoring 80 or Above  Number Scoring CR  \\\n",
       "0                         NaN                          NaN                NaN   \n",
       "1                         7.0                         43.8                NaN   \n",
       "2                         2.0                         22.2                NaN   \n",
       "3                         NaN                          NaN                NaN   \n",
       "4                         NaN                          NaN                NaN   \n",
       "\n",
       "   Percent Scoring CR  \n",
       "0                 NaN  \n",
       "1                 NaN  \n",
       "2                 NaN  \n",
       "3                 NaN  \n",
       "4                 NaN  "
      ]
     },
     "execution_count": 3,
     "metadata": {},
     "output_type": "execute_result"
    }
   ],
   "source": [
    "df.head()"
   ]
  },
  {
   "cell_type": "markdown",
   "metadata": {},
   "source": [
    "I want to look at high school Integrated Algebra's data."
   ]
  },
  {
   "cell_type": "code",
   "execution_count": 4,
   "metadata": {},
   "outputs": [],
   "source": [
    "df2 = df[(df[\"School Level\"] == \"High school\") & (df[\"Regents Exam\"] == \"Integrated Algebra\")]\n",
    "#filter to show data for High School and Integrated Algebra only"
   ]
  },
  {
   "cell_type": "code",
   "execution_count": 5,
   "metadata": {},
   "outputs": [
    {
     "data": {
      "text/html": [
       "<div>\n",
       "<style scoped>\n",
       "    .dataframe tbody tr th:only-of-type {\n",
       "        vertical-align: middle;\n",
       "    }\n",
       "\n",
       "    .dataframe tbody tr th {\n",
       "        vertical-align: top;\n",
       "    }\n",
       "\n",
       "    .dataframe thead th {\n",
       "        text-align: right;\n",
       "    }\n",
       "</style>\n",
       "<table border=\"1\" class=\"dataframe\">\n",
       "  <thead>\n",
       "    <tr style=\"text-align: right;\">\n",
       "      <th></th>\n",
       "      <th>School DBN</th>\n",
       "      <th>School Name</th>\n",
       "      <th>School Level</th>\n",
       "      <th>Regents Exam</th>\n",
       "      <th>Year</th>\n",
       "      <th>Total Tested</th>\n",
       "      <th>Mean Score</th>\n",
       "      <th>Number Scoring Below 65</th>\n",
       "      <th>Percent Scoring Below 65</th>\n",
       "      <th>Number Scoring 65 or Above</th>\n",
       "      <th>Percent Scoring 65 or Above</th>\n",
       "      <th>Number Scoring 80 or Above</th>\n",
       "      <th>Percent Scoring 80 or Above</th>\n",
       "      <th>Number Scoring CR</th>\n",
       "      <th>Percent Scoring CR</th>\n",
       "    </tr>\n",
       "  </thead>\n",
       "  <tbody>\n",
       "    <tr>\n",
       "      <th>38</th>\n",
       "      <td>01M292</td>\n",
       "      <td>Orchard Collegiate Academy</td>\n",
       "      <td>High school</td>\n",
       "      <td>Integrated Algebra</td>\n",
       "      <td>2015</td>\n",
       "      <td>63</td>\n",
       "      <td>63.4</td>\n",
       "      <td>30.0</td>\n",
       "      <td>47.6</td>\n",
       "      <td>33.0</td>\n",
       "      <td>52.4</td>\n",
       "      <td>5.0</td>\n",
       "      <td>7.9</td>\n",
       "      <td>5.0</td>\n",
       "      <td>7.9</td>\n",
       "    </tr>\n",
       "    <tr>\n",
       "      <th>39</th>\n",
       "      <td>01M292</td>\n",
       "      <td>Orchard Collegiate Academy</td>\n",
       "      <td>High school</td>\n",
       "      <td>Integrated Algebra</td>\n",
       "      <td>2016</td>\n",
       "      <td>7</td>\n",
       "      <td>51.7</td>\n",
       "      <td>5.0</td>\n",
       "      <td>71.4</td>\n",
       "      <td>2.0</td>\n",
       "      <td>28.6</td>\n",
       "      <td>0.0</td>\n",
       "      <td>0.0</td>\n",
       "      <td>0.0</td>\n",
       "      <td>0.0</td>\n",
       "    </tr>\n",
       "    <tr>\n",
       "      <th>80</th>\n",
       "      <td>01M448</td>\n",
       "      <td>University Neighborhood High School</td>\n",
       "      <td>High school</td>\n",
       "      <td>Integrated Algebra</td>\n",
       "      <td>2015</td>\n",
       "      <td>42</td>\n",
       "      <td>65.7</td>\n",
       "      <td>19.0</td>\n",
       "      <td>45.2</td>\n",
       "      <td>23.0</td>\n",
       "      <td>54.8</td>\n",
       "      <td>7.0</td>\n",
       "      <td>16.7</td>\n",
       "      <td>7.0</td>\n",
       "      <td>16.7</td>\n",
       "    </tr>\n",
       "    <tr>\n",
       "      <th>81</th>\n",
       "      <td>01M448</td>\n",
       "      <td>University Neighborhood High School</td>\n",
       "      <td>High school</td>\n",
       "      <td>Integrated Algebra</td>\n",
       "      <td>2016</td>\n",
       "      <td>16</td>\n",
       "      <td>71.8</td>\n",
       "      <td>2.0</td>\n",
       "      <td>12.5</td>\n",
       "      <td>14.0</td>\n",
       "      <td>87.5</td>\n",
       "      <td>4.0</td>\n",
       "      <td>25.0</td>\n",
       "      <td>4.0</td>\n",
       "      <td>25.0</td>\n",
       "    </tr>\n",
       "    <tr>\n",
       "      <th>120</th>\n",
       "      <td>01M458</td>\n",
       "      <td>Forsyth Satellite Academy</td>\n",
       "      <td>High school</td>\n",
       "      <td>Integrated Algebra</td>\n",
       "      <td>2015</td>\n",
       "      <td>8</td>\n",
       "      <td>57.3</td>\n",
       "      <td>6.0</td>\n",
       "      <td>75.0</td>\n",
       "      <td>2.0</td>\n",
       "      <td>25.0</td>\n",
       "      <td>0.0</td>\n",
       "      <td>0.0</td>\n",
       "      <td>0.0</td>\n",
       "      <td>0.0</td>\n",
       "    </tr>\n",
       "  </tbody>\n",
       "</table>\n",
       "</div>"
      ],
      "text/plain": [
       "    School DBN                          School Name School Level  \\\n",
       "38      01M292           Orchard Collegiate Academy  High school   \n",
       "39      01M292           Orchard Collegiate Academy  High school   \n",
       "80      01M448  University Neighborhood High School  High school   \n",
       "81      01M448  University Neighborhood High School  High school   \n",
       "120     01M458            Forsyth Satellite Academy  High school   \n",
       "\n",
       "           Regents Exam  Year  Total Tested  Mean Score  \\\n",
       "38   Integrated Algebra  2015            63        63.4   \n",
       "39   Integrated Algebra  2016             7        51.7   \n",
       "80   Integrated Algebra  2015            42        65.7   \n",
       "81   Integrated Algebra  2016            16        71.8   \n",
       "120  Integrated Algebra  2015             8        57.3   \n",
       "\n",
       "     Number Scoring Below 65  Percent Scoring Below 65  \\\n",
       "38                      30.0                      47.6   \n",
       "39                       5.0                      71.4   \n",
       "80                      19.0                      45.2   \n",
       "81                       2.0                      12.5   \n",
       "120                      6.0                      75.0   \n",
       "\n",
       "     Number Scoring 65 or Above  Percent Scoring 65 or Above  \\\n",
       "38                         33.0                         52.4   \n",
       "39                          2.0                         28.6   \n",
       "80                         23.0                         54.8   \n",
       "81                         14.0                         87.5   \n",
       "120                         2.0                         25.0   \n",
       "\n",
       "     Number Scoring 80 or Above  Percent Scoring 80 or Above  \\\n",
       "38                          5.0                          7.9   \n",
       "39                          0.0                          0.0   \n",
       "80                          7.0                         16.7   \n",
       "81                          4.0                         25.0   \n",
       "120                         0.0                          0.0   \n",
       "\n",
       "     Number Scoring CR  Percent Scoring CR  \n",
       "38                 5.0                 7.9  \n",
       "39                 0.0                 0.0  \n",
       "80                 7.0                16.7  \n",
       "81                 4.0                25.0  \n",
       "120                0.0                 0.0  "
      ]
     },
     "execution_count": 5,
     "metadata": {},
     "output_type": "execute_result"
    }
   ],
   "source": [
    "df2.head()"
   ]
  },
  {
   "cell_type": "markdown",
   "metadata": {},
   "source": [
    "To clean up data, I'm dropping column 'Number Scoring CR' and 'Percent Scoring CR', and dropping rows with missing value."
   ]
  },
  {
   "cell_type": "code",
   "execution_count": 6,
   "metadata": {},
   "outputs": [],
   "source": [
    "#drop columns 'Number Scoring CR' 'Percent Scoring CR'\n",
    "drop_cols = ['Number Scoring CR', 'Percent Scoring CR']\n",
    "df3 = df2.drop(drop_cols, axis=1)"
   ]
  },
  {
   "cell_type": "code",
   "execution_count": 7,
   "metadata": {},
   "outputs": [],
   "source": [
    "#drop rows with missing value\n",
    "df4 = df3.dropna() "
   ]
  },
  {
   "cell_type": "code",
   "execution_count": 8,
   "metadata": {
    "scrolled": true
   },
   "outputs": [
    {
     "data": {
      "text/html": [
       "<div>\n",
       "<style scoped>\n",
       "    .dataframe tbody tr th:only-of-type {\n",
       "        vertical-align: middle;\n",
       "    }\n",
       "\n",
       "    .dataframe tbody tr th {\n",
       "        vertical-align: top;\n",
       "    }\n",
       "\n",
       "    .dataframe thead th {\n",
       "        text-align: right;\n",
       "    }\n",
       "</style>\n",
       "<table border=\"1\" class=\"dataframe\">\n",
       "  <thead>\n",
       "    <tr style=\"text-align: right;\">\n",
       "      <th></th>\n",
       "      <th>School DBN</th>\n",
       "      <th>School Name</th>\n",
       "      <th>School Level</th>\n",
       "      <th>Regents Exam</th>\n",
       "      <th>Year</th>\n",
       "      <th>Total Tested</th>\n",
       "      <th>Mean Score</th>\n",
       "      <th>Number Scoring Below 65</th>\n",
       "      <th>Percent Scoring Below 65</th>\n",
       "      <th>Number Scoring 65 or Above</th>\n",
       "      <th>Percent Scoring 65 or Above</th>\n",
       "      <th>Number Scoring 80 or Above</th>\n",
       "      <th>Percent Scoring 80 or Above</th>\n",
       "    </tr>\n",
       "  </thead>\n",
       "  <tbody>\n",
       "    <tr>\n",
       "      <th>38</th>\n",
       "      <td>01M292</td>\n",
       "      <td>Orchard Collegiate Academy</td>\n",
       "      <td>High school</td>\n",
       "      <td>Integrated Algebra</td>\n",
       "      <td>2015</td>\n",
       "      <td>63</td>\n",
       "      <td>63.4</td>\n",
       "      <td>30.0</td>\n",
       "      <td>47.6</td>\n",
       "      <td>33.0</td>\n",
       "      <td>52.4</td>\n",
       "      <td>5.0</td>\n",
       "      <td>7.9</td>\n",
       "    </tr>\n",
       "    <tr>\n",
       "      <th>39</th>\n",
       "      <td>01M292</td>\n",
       "      <td>Orchard Collegiate Academy</td>\n",
       "      <td>High school</td>\n",
       "      <td>Integrated Algebra</td>\n",
       "      <td>2016</td>\n",
       "      <td>7</td>\n",
       "      <td>51.7</td>\n",
       "      <td>5.0</td>\n",
       "      <td>71.4</td>\n",
       "      <td>2.0</td>\n",
       "      <td>28.6</td>\n",
       "      <td>0.0</td>\n",
       "      <td>0.0</td>\n",
       "    </tr>\n",
       "    <tr>\n",
       "      <th>80</th>\n",
       "      <td>01M448</td>\n",
       "      <td>University Neighborhood High School</td>\n",
       "      <td>High school</td>\n",
       "      <td>Integrated Algebra</td>\n",
       "      <td>2015</td>\n",
       "      <td>42</td>\n",
       "      <td>65.7</td>\n",
       "      <td>19.0</td>\n",
       "      <td>45.2</td>\n",
       "      <td>23.0</td>\n",
       "      <td>54.8</td>\n",
       "      <td>7.0</td>\n",
       "      <td>16.7</td>\n",
       "    </tr>\n",
       "    <tr>\n",
       "      <th>81</th>\n",
       "      <td>01M448</td>\n",
       "      <td>University Neighborhood High School</td>\n",
       "      <td>High school</td>\n",
       "      <td>Integrated Algebra</td>\n",
       "      <td>2016</td>\n",
       "      <td>16</td>\n",
       "      <td>71.8</td>\n",
       "      <td>2.0</td>\n",
       "      <td>12.5</td>\n",
       "      <td>14.0</td>\n",
       "      <td>87.5</td>\n",
       "      <td>4.0</td>\n",
       "      <td>25.0</td>\n",
       "    </tr>\n",
       "    <tr>\n",
       "      <th>120</th>\n",
       "      <td>01M458</td>\n",
       "      <td>Forsyth Satellite Academy</td>\n",
       "      <td>High school</td>\n",
       "      <td>Integrated Algebra</td>\n",
       "      <td>2015</td>\n",
       "      <td>8</td>\n",
       "      <td>57.3</td>\n",
       "      <td>6.0</td>\n",
       "      <td>75.0</td>\n",
       "      <td>2.0</td>\n",
       "      <td>25.0</td>\n",
       "      <td>0.0</td>\n",
       "      <td>0.0</td>\n",
       "    </tr>\n",
       "    <tr>\n",
       "      <th>...</th>\n",
       "      <td>...</td>\n",
       "      <td>...</td>\n",
       "      <td>...</td>\n",
       "      <td>...</td>\n",
       "      <td>...</td>\n",
       "      <td>...</td>\n",
       "      <td>...</td>\n",
       "      <td>...</td>\n",
       "      <td>...</td>\n",
       "      <td>...</td>\n",
       "      <td>...</td>\n",
       "      <td>...</td>\n",
       "      <td>...</td>\n",
       "    </tr>\n",
       "    <tr>\n",
       "      <th>211576</th>\n",
       "      <td>84X395</td>\n",
       "      <td>NYC Charter High School for Architecture, Engi...</td>\n",
       "      <td>High school</td>\n",
       "      <td>Integrated Algebra</td>\n",
       "      <td>2016</td>\n",
       "      <td>8</td>\n",
       "      <td>80.5</td>\n",
       "      <td>1.0</td>\n",
       "      <td>12.5</td>\n",
       "      <td>7.0</td>\n",
       "      <td>87.5</td>\n",
       "      <td>7.0</td>\n",
       "      <td>87.5</td>\n",
       "    </tr>\n",
       "    <tr>\n",
       "      <th>211906</th>\n",
       "      <td>84X539</td>\n",
       "      <td>New Visions Charter High School for Advanced Math</td>\n",
       "      <td>High school</td>\n",
       "      <td>Integrated Algebra</td>\n",
       "      <td>2015</td>\n",
       "      <td>37</td>\n",
       "      <td>71.6</td>\n",
       "      <td>8.0</td>\n",
       "      <td>21.6</td>\n",
       "      <td>29.0</td>\n",
       "      <td>78.4</td>\n",
       "      <td>7.0</td>\n",
       "      <td>18.9</td>\n",
       "    </tr>\n",
       "    <tr>\n",
       "      <th>211907</th>\n",
       "      <td>84X539</td>\n",
       "      <td>New Visions Charter High School for Advanced Math</td>\n",
       "      <td>High school</td>\n",
       "      <td>Integrated Algebra</td>\n",
       "      <td>2015</td>\n",
       "      <td>33</td>\n",
       "      <td>68.0</td>\n",
       "      <td>7.0</td>\n",
       "      <td>21.2</td>\n",
       "      <td>26.0</td>\n",
       "      <td>78.8</td>\n",
       "      <td>1.0</td>\n",
       "      <td>3.0</td>\n",
       "    </tr>\n",
       "    <tr>\n",
       "      <th>212047</th>\n",
       "      <td>84X553</td>\n",
       "      <td>New Visions Charter High School for the Humani...</td>\n",
       "      <td>High school</td>\n",
       "      <td>Integrated Algebra</td>\n",
       "      <td>2015</td>\n",
       "      <td>106</td>\n",
       "      <td>65.4</td>\n",
       "      <td>43.0</td>\n",
       "      <td>40.6</td>\n",
       "      <td>63.0</td>\n",
       "      <td>59.4</td>\n",
       "      <td>8.0</td>\n",
       "      <td>7.5</td>\n",
       "    </tr>\n",
       "    <tr>\n",
       "      <th>212049</th>\n",
       "      <td>84X553</td>\n",
       "      <td>New Visions Charter High School for the Humani...</td>\n",
       "      <td>High school</td>\n",
       "      <td>Integrated Algebra</td>\n",
       "      <td>2016</td>\n",
       "      <td>11</td>\n",
       "      <td>77.1</td>\n",
       "      <td>0.0</td>\n",
       "      <td>0.0</td>\n",
       "      <td>11.0</td>\n",
       "      <td>100.0</td>\n",
       "      <td>4.0</td>\n",
       "      <td>36.4</td>\n",
       "    </tr>\n",
       "  </tbody>\n",
       "</table>\n",
       "<p>5384 rows × 13 columns</p>\n",
       "</div>"
      ],
      "text/plain": [
       "       School DBN                                        School Name  \\\n",
       "38         01M292                         Orchard Collegiate Academy   \n",
       "39         01M292                         Orchard Collegiate Academy   \n",
       "80         01M448                University Neighborhood High School   \n",
       "81         01M448                University Neighborhood High School   \n",
       "120        01M458                          Forsyth Satellite Academy   \n",
       "...           ...                                                ...   \n",
       "211576     84X395  NYC Charter High School for Architecture, Engi...   \n",
       "211906     84X539  New Visions Charter High School for Advanced Math   \n",
       "211907     84X539  New Visions Charter High School for Advanced Math   \n",
       "212047     84X553  New Visions Charter High School for the Humani...   \n",
       "212049     84X553  New Visions Charter High School for the Humani...   \n",
       "\n",
       "       School Level        Regents Exam  Year  Total Tested  Mean Score  \\\n",
       "38      High school  Integrated Algebra  2015            63        63.4   \n",
       "39      High school  Integrated Algebra  2016             7        51.7   \n",
       "80      High school  Integrated Algebra  2015            42        65.7   \n",
       "81      High school  Integrated Algebra  2016            16        71.8   \n",
       "120     High school  Integrated Algebra  2015             8        57.3   \n",
       "...             ...                 ...   ...           ...         ...   \n",
       "211576  High school  Integrated Algebra  2016             8        80.5   \n",
       "211906  High school  Integrated Algebra  2015            37        71.6   \n",
       "211907  High school  Integrated Algebra  2015            33        68.0   \n",
       "212047  High school  Integrated Algebra  2015           106        65.4   \n",
       "212049  High school  Integrated Algebra  2016            11        77.1   \n",
       "\n",
       "        Number Scoring Below 65  Percent Scoring Below 65  \\\n",
       "38                         30.0                      47.6   \n",
       "39                          5.0                      71.4   \n",
       "80                         19.0                      45.2   \n",
       "81                          2.0                      12.5   \n",
       "120                         6.0                      75.0   \n",
       "...                         ...                       ...   \n",
       "211576                      1.0                      12.5   \n",
       "211906                      8.0                      21.6   \n",
       "211907                      7.0                      21.2   \n",
       "212047                     43.0                      40.6   \n",
       "212049                      0.0                       0.0   \n",
       "\n",
       "        Number Scoring 65 or Above  Percent Scoring 65 or Above  \\\n",
       "38                            33.0                         52.4   \n",
       "39                             2.0                         28.6   \n",
       "80                            23.0                         54.8   \n",
       "81                            14.0                         87.5   \n",
       "120                            2.0                         25.0   \n",
       "...                            ...                          ...   \n",
       "211576                         7.0                         87.5   \n",
       "211906                        29.0                         78.4   \n",
       "211907                        26.0                         78.8   \n",
       "212047                        63.0                         59.4   \n",
       "212049                        11.0                        100.0   \n",
       "\n",
       "        Number Scoring 80 or Above  Percent Scoring 80 or Above  \n",
       "38                             5.0                          7.9  \n",
       "39                             0.0                          0.0  \n",
       "80                             7.0                         16.7  \n",
       "81                             4.0                         25.0  \n",
       "120                            0.0                          0.0  \n",
       "...                            ...                          ...  \n",
       "211576                         7.0                         87.5  \n",
       "211906                         7.0                         18.9  \n",
       "211907                         1.0                          3.0  \n",
       "212047                         8.0                          7.5  \n",
       "212049                         4.0                         36.4  \n",
       "\n",
       "[5384 rows x 13 columns]"
      ]
     },
     "execution_count": 8,
     "metadata": {},
     "output_type": "execute_result"
    }
   ],
   "source": [
    "df4"
   ]
  },
  {
   "cell_type": "markdown",
   "metadata": {},
   "source": [
    "I'm filtering out Francis Lewis High School data to compare to the city."
   ]
  },
  {
   "cell_type": "code",
   "execution_count": 9,
   "metadata": {},
   "outputs": [],
   "source": [
    "francis = df4[df4[\"School Name\"] == \"Francis Lewis High School\"]\n",
    "#filter to show Francis Lewis High School only"
   ]
  },
  {
   "cell_type": "code",
   "execution_count": 10,
   "metadata": {},
   "outputs": [
    {
     "data": {
      "text/html": [
       "<div>\n",
       "<style scoped>\n",
       "    .dataframe tbody tr th:only-of-type {\n",
       "        vertical-align: middle;\n",
       "    }\n",
       "\n",
       "    .dataframe tbody tr th {\n",
       "        vertical-align: top;\n",
       "    }\n",
       "\n",
       "    .dataframe thead th {\n",
       "        text-align: right;\n",
       "    }\n",
       "</style>\n",
       "<table border=\"1\" class=\"dataframe\">\n",
       "  <thead>\n",
       "    <tr style=\"text-align: right;\">\n",
       "      <th></th>\n",
       "      <th>School DBN</th>\n",
       "      <th>School Name</th>\n",
       "      <th>School Level</th>\n",
       "      <th>Regents Exam</th>\n",
       "      <th>Year</th>\n",
       "      <th>Total Tested</th>\n",
       "      <th>Mean Score</th>\n",
       "      <th>Number Scoring Below 65</th>\n",
       "      <th>Percent Scoring Below 65</th>\n",
       "      <th>Number Scoring 65 or Above</th>\n",
       "      <th>Percent Scoring 65 or Above</th>\n",
       "      <th>Number Scoring 80 or Above</th>\n",
       "      <th>Percent Scoring 80 or Above</th>\n",
       "    </tr>\n",
       "  </thead>\n",
       "  <tbody>\n",
       "    <tr>\n",
       "      <th>14570</th>\n",
       "      <td>26Q430</td>\n",
       "      <td>Francis Lewis High School</td>\n",
       "      <td>High school</td>\n",
       "      <td>Integrated Algebra</td>\n",
       "      <td>2015</td>\n",
       "      <td>667</td>\n",
       "      <td>72.9</td>\n",
       "      <td>142.0</td>\n",
       "      <td>21.3</td>\n",
       "      <td>525.0</td>\n",
       "      <td>78.7</td>\n",
       "      <td>212.0</td>\n",
       "      <td>31.8</td>\n",
       "    </tr>\n",
       "    <tr>\n",
       "      <th>14571</th>\n",
       "      <td>26Q430</td>\n",
       "      <td>Francis Lewis High School</td>\n",
       "      <td>High school</td>\n",
       "      <td>Integrated Algebra</td>\n",
       "      <td>2016</td>\n",
       "      <td>76</td>\n",
       "      <td>71.2</td>\n",
       "      <td>14.0</td>\n",
       "      <td>18.4</td>\n",
       "      <td>62.0</td>\n",
       "      <td>81.6</td>\n",
       "      <td>10.0</td>\n",
       "      <td>13.2</td>\n",
       "    </tr>\n",
       "    <tr>\n",
       "      <th>45525</th>\n",
       "      <td>26Q430</td>\n",
       "      <td>Francis Lewis High School</td>\n",
       "      <td>High school</td>\n",
       "      <td>Integrated Algebra</td>\n",
       "      <td>2015</td>\n",
       "      <td>491</td>\n",
       "      <td>75.7</td>\n",
       "      <td>60.0</td>\n",
       "      <td>12.2</td>\n",
       "      <td>431.0</td>\n",
       "      <td>87.8</td>\n",
       "      <td>192.0</td>\n",
       "      <td>39.1</td>\n",
       "    </tr>\n",
       "    <tr>\n",
       "      <th>45526</th>\n",
       "      <td>26Q430</td>\n",
       "      <td>Francis Lewis High School</td>\n",
       "      <td>High school</td>\n",
       "      <td>Integrated Algebra</td>\n",
       "      <td>2015</td>\n",
       "      <td>176</td>\n",
       "      <td>65.3</td>\n",
       "      <td>82.0</td>\n",
       "      <td>46.6</td>\n",
       "      <td>94.0</td>\n",
       "      <td>53.4</td>\n",
       "      <td>20.0</td>\n",
       "      <td>11.4</td>\n",
       "    </tr>\n",
       "    <tr>\n",
       "      <th>45527</th>\n",
       "      <td>26Q430</td>\n",
       "      <td>Francis Lewis High School</td>\n",
       "      <td>High school</td>\n",
       "      <td>Integrated Algebra</td>\n",
       "      <td>2016</td>\n",
       "      <td>58</td>\n",
       "      <td>72.6</td>\n",
       "      <td>7.0</td>\n",
       "      <td>12.1</td>\n",
       "      <td>51.0</td>\n",
       "      <td>87.9</td>\n",
       "      <td>9.0</td>\n",
       "      <td>15.5</td>\n",
       "    </tr>\n",
       "  </tbody>\n",
       "</table>\n",
       "</div>"
      ],
      "text/plain": [
       "      School DBN                School Name School Level        Regents Exam  \\\n",
       "14570     26Q430  Francis Lewis High School  High school  Integrated Algebra   \n",
       "14571     26Q430  Francis Lewis High School  High school  Integrated Algebra   \n",
       "45525     26Q430  Francis Lewis High School  High school  Integrated Algebra   \n",
       "45526     26Q430  Francis Lewis High School  High school  Integrated Algebra   \n",
       "45527     26Q430  Francis Lewis High School  High school  Integrated Algebra   \n",
       "\n",
       "       Year  Total Tested  Mean Score  Number Scoring Below 65  \\\n",
       "14570  2015           667        72.9                    142.0   \n",
       "14571  2016            76        71.2                     14.0   \n",
       "45525  2015           491        75.7                     60.0   \n",
       "45526  2015           176        65.3                     82.0   \n",
       "45527  2016            58        72.6                      7.0   \n",
       "\n",
       "       Percent Scoring Below 65  Number Scoring 65 or Above  \\\n",
       "14570                      21.3                       525.0   \n",
       "14571                      18.4                        62.0   \n",
       "45525                      12.2                       431.0   \n",
       "45526                      46.6                        94.0   \n",
       "45527                      12.1                        51.0   \n",
       "\n",
       "       Percent Scoring 65 or Above  Number Scoring 80 or Above  \\\n",
       "14570                         78.7                       212.0   \n",
       "14571                         81.6                        10.0   \n",
       "45525                         87.8                       192.0   \n",
       "45526                         53.4                        20.0   \n",
       "45527                         87.9                         9.0   \n",
       "\n",
       "       Percent Scoring 80 or Above  \n",
       "14570                         31.8  \n",
       "14571                         13.2  \n",
       "45525                         39.1  \n",
       "45526                         11.4  \n",
       "45527                         15.5  "
      ]
     },
     "execution_count": 10,
     "metadata": {},
     "output_type": "execute_result"
    }
   ],
   "source": [
    "francis.head()"
   ]
  },
  {
   "cell_type": "code",
   "execution_count": 11,
   "metadata": {},
   "outputs": [
    {
     "data": {
      "text/html": [
       "<div>\n",
       "<style scoped>\n",
       "    .dataframe tbody tr th:only-of-type {\n",
       "        vertical-align: middle;\n",
       "    }\n",
       "\n",
       "    .dataframe tbody tr th {\n",
       "        vertical-align: top;\n",
       "    }\n",
       "\n",
       "    .dataframe thead th {\n",
       "        text-align: right;\n",
       "    }\n",
       "</style>\n",
       "<table border=\"1\" class=\"dataframe\">\n",
       "  <thead>\n",
       "    <tr style=\"text-align: right;\">\n",
       "      <th></th>\n",
       "      <th>count</th>\n",
       "      <th>mean</th>\n",
       "      <th>std</th>\n",
       "      <th>min</th>\n",
       "      <th>25%</th>\n",
       "      <th>50%</th>\n",
       "      <th>75%</th>\n",
       "      <th>max</th>\n",
       "    </tr>\n",
       "    <tr>\n",
       "      <th>Year</th>\n",
       "      <th></th>\n",
       "      <th></th>\n",
       "      <th></th>\n",
       "      <th></th>\n",
       "      <th></th>\n",
       "      <th></th>\n",
       "      <th></th>\n",
       "      <th></th>\n",
       "    </tr>\n",
       "  </thead>\n",
       "  <tbody>\n",
       "    <tr>\n",
       "      <th>2015</th>\n",
       "      <td>13.0</td>\n",
       "      <td>72.969231</td>\n",
       "      <td>3.695128</td>\n",
       "      <td>65.3</td>\n",
       "      <td>71.70</td>\n",
       "      <td>72.9</td>\n",
       "      <td>74.4</td>\n",
       "      <td>80.1</td>\n",
       "    </tr>\n",
       "    <tr>\n",
       "      <th>2016</th>\n",
       "      <td>11.0</td>\n",
       "      <td>70.863636</td>\n",
       "      <td>2.486472</td>\n",
       "      <td>66.8</td>\n",
       "      <td>69.85</td>\n",
       "      <td>70.6</td>\n",
       "      <td>72.1</td>\n",
       "      <td>76.0</td>\n",
       "    </tr>\n",
       "  </tbody>\n",
       "</table>\n",
       "</div>"
      ],
      "text/plain": [
       "      count       mean       std   min    25%   50%   75%   max\n",
       "Year                                                           \n",
       "2015   13.0  72.969231  3.695128  65.3  71.70  72.9  74.4  80.1\n",
       "2016   11.0  70.863636  2.486472  66.8  69.85  70.6  72.1  76.0"
      ]
     },
     "execution_count": 11,
     "metadata": {},
     "output_type": "execute_result"
    }
   ],
   "source": [
    "francis.groupby(['Year'])['Mean Score'].describe()\n",
    "#showing Francis Lewis HS's mean, min, and max, etc"
   ]
  },
  {
   "cell_type": "code",
   "execution_count": 12,
   "metadata": {},
   "outputs": [
    {
     "data": {
      "text/html": [
       "<div>\n",
       "<style scoped>\n",
       "    .dataframe tbody tr th:only-of-type {\n",
       "        vertical-align: middle;\n",
       "    }\n",
       "\n",
       "    .dataframe tbody tr th {\n",
       "        vertical-align: top;\n",
       "    }\n",
       "\n",
       "    .dataframe thead th {\n",
       "        text-align: right;\n",
       "    }\n",
       "</style>\n",
       "<table border=\"1\" class=\"dataframe\">\n",
       "  <thead>\n",
       "    <tr style=\"text-align: right;\">\n",
       "      <th></th>\n",
       "      <th>count</th>\n",
       "      <th>mean</th>\n",
       "      <th>std</th>\n",
       "      <th>min</th>\n",
       "      <th>25%</th>\n",
       "      <th>50%</th>\n",
       "      <th>75%</th>\n",
       "      <th>max</th>\n",
       "    </tr>\n",
       "    <tr>\n",
       "      <th>Year</th>\n",
       "      <th></th>\n",
       "      <th></th>\n",
       "      <th></th>\n",
       "      <th></th>\n",
       "      <th></th>\n",
       "      <th></th>\n",
       "      <th></th>\n",
       "      <th></th>\n",
       "    </tr>\n",
       "  </thead>\n",
       "  <tbody>\n",
       "    <tr>\n",
       "      <th>2015</th>\n",
       "      <td>3529.0</td>\n",
       "      <td>64.53066</td>\n",
       "      <td>6.664466</td>\n",
       "      <td>41.6</td>\n",
       "      <td>60.3</td>\n",
       "      <td>64.0</td>\n",
       "      <td>68.1</td>\n",
       "      <td>95.7</td>\n",
       "    </tr>\n",
       "    <tr>\n",
       "      <th>2016</th>\n",
       "      <td>1855.0</td>\n",
       "      <td>64.02027</td>\n",
       "      <td>6.938624</td>\n",
       "      <td>36.7</td>\n",
       "      <td>59.2</td>\n",
       "      <td>64.2</td>\n",
       "      <td>68.7</td>\n",
       "      <td>88.0</td>\n",
       "    </tr>\n",
       "  </tbody>\n",
       "</table>\n",
       "</div>"
      ],
      "text/plain": [
       "       count      mean       std   min   25%   50%   75%   max\n",
       "Year                                                          \n",
       "2015  3529.0  64.53066  6.664466  41.6  60.3  64.0  68.1  95.7\n",
       "2016  1855.0  64.02027  6.938624  36.7  59.2  64.2  68.7  88.0"
      ]
     },
     "execution_count": 12,
     "metadata": {},
     "output_type": "execute_result"
    }
   ],
   "source": [
    "df4.groupby(['Year'])['Mean Score'].describe()\n",
    "#showing the city's mean, min, and max, etc"
   ]
  },
  {
   "cell_type": "markdown",
   "metadata": {},
   "source": [
    "For Integrated Algebra:<br>\n",
    "Fracis Lewis High School's lowest mean score was 65.3, and the city's lowest mean score was 36.7.<br>\n",
    "Fracis Lewis High School's highest mean score was 80.1, the city's highest mean score was 95.7.<br>\n",
    "Overall, Fracis Lewis High School's mean score is above the city's mean. "
   ]
  },
  {
   "cell_type": "code",
   "execution_count": 13,
   "metadata": {},
   "outputs": [
    {
     "data": {
      "text/plain": [
       "<matplotlib.axes._subplots.AxesSubplot at 0x10dbdf70>"
      ]
     },
     "execution_count": 13,
     "metadata": {},
     "output_type": "execute_result"
    },
    {
     "data": {
      "image/png": "[encoded data removed]",
      "text/plain": [
       "<Figure size 432x288 with 1 Axes>"
      ]
     },
     "metadata": {
      "needs_background": "light"
     },
     "output_type": "display_data"
    }
   ],
   "source": [
    "francis.groupby(['Year'])['Mean Score'].mean().plot(kind='bar')"
   ]
  },
  {
   "cell_type": "markdown",
   "metadata": {},
   "source": [
    "Above chart shows Francis Lewis High School's mean scores for Integrated Algebra between 2015 and 2016 are close, meaning they have stable performance."
   ]
  },
  {
   "cell_type": "code",
   "execution_count": 14,
   "metadata": {},
   "outputs": [
    {
     "data": {
      "text/plain": [
       "<matplotlib.axes._subplots.AxesSubplot at 0x114982f0>"
      ]
     },
     "execution_count": 14,
     "metadata": {},
     "output_type": "execute_result"
    },
    {
     "data": {
      "image/png": "[encoded data removed]",
      "text/plain": [
       "<Figure size 432x288 with 1 Axes>"
      ]
     },
     "metadata": {
      "needs_background": "light"
     },
     "output_type": "display_data"
    }
   ],
   "source": [
    "sns.distplot(francis['Mean Score'], bins=10)"
   ]
  },
  {
   "cell_type": "markdown",
   "metadata": {},
   "source": [
    "Above distplot shows Francis Lewis High School's mean score for Integrated Algebra. Majority is at around 72."
   ]
  },
  {
   "cell_type": "code",
   "execution_count": 15,
   "metadata": {},
   "outputs": [
    {
     "data": {
      "text/plain": [
       "<matplotlib.axes._subplots.AxesSubplot at 0x115013d0>"
      ]
     },
     "execution_count": 15,
     "metadata": {},
     "output_type": "execute_result"
    },
    {
     "data": {
      "image/png": "[encoded data removed]",
      "text/plain": [
       "<Figure size 432x288 with 1 Axes>"
      ]
     },
     "metadata": {
      "needs_background": "light"
     },
     "output_type": "display_data"
    }
   ],
   "source": [
    "sns.distplot(df4['Mean Score'], bins=10)"
   ]
  },
  {
   "cell_type": "markdown",
   "metadata": {},
   "source": [
    "Above distplot shows the citywide's mean score for Integrated Algebra. Majority is at around 64. It has a larger range of score comparing to Francis Lewis High School, from nearly 30-something to nearly 100."
   ]
  },
  {
   "cell_type": "code",
   "execution_count": 16,
   "metadata": {},
   "outputs": [
    {
     "data": {
      "text/plain": [
       "<seaborn.axisgrid.JointGrid at 0x11550b30>"
      ]
     },
     "execution_count": 16,
     "metadata": {},
     "output_type": "execute_result"
    },
    {
     "data": {
      "image/png": "[encoded data removed]",
      "text/plain": [
       "<Figure size 432x432 with 3 Axes>"
      ]
     },
     "metadata": {
      "needs_background": "light"
     },
     "output_type": "display_data"
    }
   ],
   "source": [
    "sns.jointplot(x='Mean Score', y='Total Tested', data=df4)"
   ]
  },
  {
   "cell_type": "markdown",
   "metadata": {},
   "source": [
    "The above jointplot shows the city's mean score against the number of total student tested citywide."
   ]
  },
  {
   "cell_type": "code",
   "execution_count": 17,
   "metadata": {},
   "outputs": [
    {
     "data": {
      "text/plain": [
       "<seaborn.axisgrid.JointGrid at 0x115d3f50>"
      ]
     },
     "execution_count": 17,
     "metadata": {},
     "output_type": "execute_result"
    },
    {
     "data": {
      "image/png": "[encoded data removed]",
      "text/plain": [
       "<Figure size 432x432 with 3 Axes>"
      ]
     },
     "metadata": {
      "needs_background": "light"
     },
     "output_type": "display_data"
    }
   ],
   "source": [
    "sns.jointplot(x='Mean Score', y='Total Tested', data=francis)"
   ]
  },
  {
   "cell_type": "markdown",
   "metadata": {},
   "source": [
    "The above jointplot shows the mean score against the number of total student tested for Francis Lewis High School."
   ]
  },
  {
   "cell_type": "code",
   "execution_count": 18,
   "metadata": {},
   "outputs": [
    {
     "data": {
      "text/plain": [
       "<matplotlib.axes._subplots.AxesSubplot at 0x119ba1b0>"
      ]
     },
     "execution_count": 18,
     "metadata": {},
     "output_type": "execute_result"
    },
    {
     "data": {
      "image/png": "[encoded data removed]",
      "text/plain": [
       "<Figure size 432x288 with 1 Axes>"
      ]
     },
     "metadata": {
      "needs_background": "light"
     },
     "output_type": "display_data"
    }
   ],
   "source": [
    "francis.groupby(['Year'])['Percent Scoring 80 or Above'].mean().plot(kind='bar')"
   ]
  },
  {
   "cell_type": "markdown",
   "metadata": {},
   "source": [
    "Francis Lewis: When looking at percentage for student scoring over 80, 2015 had above 31% student, but dropped more than half to 12% in 2016."
   ]
  },
  {
   "cell_type": "code",
   "execution_count": 19,
   "metadata": {
    "scrolled": true
   },
   "outputs": [
    {
     "data": {
      "text/plain": [
       "<matplotlib.axes._subplots.AxesSubplot at 0x119f35d0>"
      ]
     },
     "execution_count": 19,
     "metadata": {},
     "output_type": "execute_result"
    },
    {
     "data": {
      "image/png": "[encoded data removed]",
      "text/plain": [
       "<Figure size 432x288 with 1 Axes>"
      ]
     },
     "metadata": {
      "needs_background": "light"
     },
     "output_type": "display_data"
    }
   ],
   "source": [
    "df4.groupby(['Year'])['Percent Scoring 80 or Above'].mean().plot(kind='bar')"
   ]
  },
  {
   "cell_type": "markdown",
   "metadata": {},
   "source": [
    "Citywide, 10% of student scored higher than 80 in 2015 and 9% scored higher than 80 in 2016."
   ]
  },
  {
   "cell_type": "code",
   "execution_count": 20,
   "metadata": {},
   "outputs": [
    {
     "data": {
      "text/html": [
       "<div>\n",
       "<style scoped>\n",
       "    .dataframe tbody tr th:only-of-type {\n",
       "        vertical-align: middle;\n",
       "    }\n",
       "\n",
       "    .dataframe tbody tr th {\n",
       "        vertical-align: top;\n",
       "    }\n",
       "\n",
       "    .dataframe thead th {\n",
       "        text-align: right;\n",
       "    }\n",
       "</style>\n",
       "<table border=\"1\" class=\"dataframe\">\n",
       "  <thead>\n",
       "    <tr style=\"text-align: right;\">\n",
       "      <th></th>\n",
       "      <th>count</th>\n",
       "      <th>mean</th>\n",
       "      <th>std</th>\n",
       "      <th>min</th>\n",
       "      <th>25%</th>\n",
       "      <th>50%</th>\n",
       "      <th>75%</th>\n",
       "      <th>max</th>\n",
       "    </tr>\n",
       "    <tr>\n",
       "      <th>Year</th>\n",
       "      <th></th>\n",
       "      <th></th>\n",
       "      <th></th>\n",
       "      <th></th>\n",
       "      <th></th>\n",
       "      <th></th>\n",
       "      <th></th>\n",
       "      <th></th>\n",
       "    </tr>\n",
       "  </thead>\n",
       "  <tbody>\n",
       "    <tr>\n",
       "      <th>2015</th>\n",
       "      <td>13.0</td>\n",
       "      <td>31.361538</td>\n",
       "      <td>11.682290</td>\n",
       "      <td>11.4</td>\n",
       "      <td>24.20</td>\n",
       "      <td>31.8</td>\n",
       "      <td>39.1</td>\n",
       "      <td>50.2</td>\n",
       "    </tr>\n",
       "    <tr>\n",
       "      <th>2016</th>\n",
       "      <td>11.0</td>\n",
       "      <td>12.745455</td>\n",
       "      <td>8.769192</td>\n",
       "      <td>0.0</td>\n",
       "      <td>6.95</td>\n",
       "      <td>13.2</td>\n",
       "      <td>16.1</td>\n",
       "      <td>33.3</td>\n",
       "    </tr>\n",
       "  </tbody>\n",
       "</table>\n",
       "</div>"
      ],
      "text/plain": [
       "      count       mean        std   min    25%   50%   75%   max\n",
       "Year                                                            \n",
       "2015   13.0  31.361538  11.682290  11.4  24.20  31.8  39.1  50.2\n",
       "2016   11.0  12.745455   8.769192   0.0   6.95  13.2  16.1  33.3"
      ]
     },
     "execution_count": 20,
     "metadata": {},
     "output_type": "execute_result"
    }
   ],
   "source": [
    "francis.groupby(['Year'])['Percent Scoring 80 or Above'].describe()\n",
    "#Showing the mean, min, and max, etc for Francis Lewis for percentage of student scored higher than 80 for Integrated Algera"
   ]
  },
  {
   "cell_type": "code",
   "execution_count": 21,
   "metadata": {},
   "outputs": [
    {
     "data": {
      "text/html": [
       "<div>\n",
       "<style scoped>\n",
       "    .dataframe tbody tr th:only-of-type {\n",
       "        vertical-align: middle;\n",
       "    }\n",
       "\n",
       "    .dataframe tbody tr th {\n",
       "        vertical-align: top;\n",
       "    }\n",
       "\n",
       "    .dataframe thead th {\n",
       "        text-align: right;\n",
       "    }\n",
       "</style>\n",
       "<table border=\"1\" class=\"dataframe\">\n",
       "  <thead>\n",
       "    <tr style=\"text-align: right;\">\n",
       "      <th></th>\n",
       "      <th>count</th>\n",
       "      <th>mean</th>\n",
       "      <th>std</th>\n",
       "      <th>min</th>\n",
       "      <th>25%</th>\n",
       "      <th>50%</th>\n",
       "      <th>75%</th>\n",
       "      <th>max</th>\n",
       "    </tr>\n",
       "    <tr>\n",
       "      <th>Year</th>\n",
       "      <th></th>\n",
       "      <th></th>\n",
       "      <th></th>\n",
       "      <th></th>\n",
       "      <th></th>\n",
       "      <th></th>\n",
       "      <th></th>\n",
       "      <th></th>\n",
       "    </tr>\n",
       "  </thead>\n",
       "  <tbody>\n",
       "    <tr>\n",
       "      <th>2015</th>\n",
       "      <td>3529.0</td>\n",
       "      <td>10.728705</td>\n",
       "      <td>15.854019</td>\n",
       "      <td>0.0</td>\n",
       "      <td>0.0</td>\n",
       "      <td>5.4</td>\n",
       "      <td>13.5</td>\n",
       "      <td>100.0</td>\n",
       "    </tr>\n",
       "    <tr>\n",
       "      <th>2016</th>\n",
       "      <td>1855.0</td>\n",
       "      <td>9.481132</td>\n",
       "      <td>13.698783</td>\n",
       "      <td>0.0</td>\n",
       "      <td>0.0</td>\n",
       "      <td>4.2</td>\n",
       "      <td>13.6</td>\n",
       "      <td>100.0</td>\n",
       "    </tr>\n",
       "  </tbody>\n",
       "</table>\n",
       "</div>"
      ],
      "text/plain": [
       "       count       mean        std  min  25%  50%   75%    max\n",
       "Year                                                          \n",
       "2015  3529.0  10.728705  15.854019  0.0  0.0  5.4  13.5  100.0\n",
       "2016  1855.0   9.481132  13.698783  0.0  0.0  4.2  13.6  100.0"
      ]
     },
     "execution_count": 21,
     "metadata": {},
     "output_type": "execute_result"
    }
   ],
   "source": [
    "df4.groupby(['Year'])['Percent Scoring 80 or Above'].describe()\n",
    "#Showing the mean, min, and max, etc for city for percentage of student scored higher than 80 for Integrated Algera"
   ]
  },
  {
   "cell_type": "markdown",
   "metadata": {},
   "source": [
    "Some schools have 100% of student scoring more than 80. I want to know what school. So I do a filter below."
   ]
  },
  {
   "cell_type": "code",
   "execution_count": 22,
   "metadata": {},
   "outputs": [],
   "source": [
    "df5 = df4[df4['Percent Scoring 80 or Above'] == 100]\n",
    "#filter to show what school have 100% scoring 80 or above"
   ]
  },
  {
   "cell_type": "code",
   "execution_count": 23,
   "metadata": {},
   "outputs": [
    {
     "data": {
      "text/plain": [
       "School Name\n",
       "Bronx High School of Science                         100.0\n",
       "Brooklyn Technical High School                       100.0\n",
       "Eleanor Roosevelt High School                        100.0\n",
       "High School of American Studies at Lehman College    100.0\n",
       "Manhattan Center for Science and Mathematics         100.0\n",
       "Stuyvesant High School                               100.0\n",
       "Name: Percent Scoring 80 or Above, dtype: float64"
      ]
     },
     "execution_count": 23,
     "metadata": {},
     "output_type": "execute_result"
    }
   ],
   "source": [
    "df5.groupby(['School Name'])['Percent Scoring 80 or Above'].mean()"
   ]
  },
  {
   "cell_type": "markdown",
   "metadata": {},
   "source": [
    "The above school such as Bronx High School of Science and Stuyvesant High School have all students scoring more than 80."
   ]
  },
  {
   "cell_type": "markdown",
   "metadata": {},
   "source": [
    "Overall, Francis Lewis has above average performance in Integrated Algera comparing to citywide high school, but definitely not the top school in this subject."
   ]
  }
 ],
 "metadata": {
  "kernelspec": {
   "display_name": "Python 3",
   "language": "python",
   "name": "python3"
  },
  "language_info": {
   "codemirror_mode": {
    "name": "ipython",
    "version": 3
   },
   "file_extension": ".py",
   "mimetype": "text/x-python",
   "name": "python",
   "nbconvert_exporter": "python",
   "pygments_lexer": "ipython3",
   "version": "3.7.6"
  }
 },
 "nbformat": 4,
 "nbformat_minor": 4
}
